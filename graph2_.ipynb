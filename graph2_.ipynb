{
 "cells": [
  {
   "cell_type": "code",
   "execution_count": 1,
   "metadata": {},
   "outputs": [],
   "source": [
    "import numpy as np\n",
    "import matplotlib.pyplot as plt\n",
    "import pandas as pd\n",
    "\n",
    "%matplotlib inline\n",
    "\n",
    "data = pd.read_excel(\"newnew_1.xlsx\")\n",
    "df = pd.DataFrame(data)"
   ]
  },
  {
   "cell_type": "code",
   "execution_count": 2,
   "metadata": {
    "scrolled": true
   },
   "outputs": [
    {
     "data": {
      "text/html": [
       "<div>\n",
       "<style scoped>\n",
       "    .dataframe tbody tr th:only-of-type {\n",
       "        vertical-align: middle;\n",
       "    }\n",
       "\n",
       "    .dataframe tbody tr th {\n",
       "        vertical-align: top;\n",
       "    }\n",
       "\n",
       "    .dataframe thead th {\n",
       "        text-align: right;\n",
       "    }\n",
       "</style>\n",
       "<table border=\"1\" class=\"dataframe\">\n",
       "  <thead>\n",
       "    <tr style=\"text-align: right;\">\n",
       "      <th></th>\n",
       "      <th>Unnamed: 0</th>\n",
       "      <th>State_Name</th>\n",
       "      <th>Year</th>\n",
       "      <th>Crop</th>\n",
       "      <th>Area</th>\n",
       "      <th>Production</th>\n",
       "      <th>District_name</th>\n",
       "      <th>Rainfall_amt</th>\n",
       "      <th>Season</th>\n",
       "    </tr>\n",
       "  </thead>\n",
       "  <tbody>\n",
       "    <tr>\n",
       "      <td>54116</td>\n",
       "      <td>54116</td>\n",
       "      <td>Karnataka</td>\n",
       "      <td>2010</td>\n",
       "      <td>Rice</td>\n",
       "      <td>68354.0</td>\n",
       "      <td>139200.0</td>\n",
       "      <td>Belgaum</td>\n",
       "      <td>very high</td>\n",
       "      <td>Kharif</td>\n",
       "    </tr>\n",
       "    <tr>\n",
       "      <td>54145</td>\n",
       "      <td>54145</td>\n",
       "      <td>Karnataka</td>\n",
       "      <td>2010</td>\n",
       "      <td>Rice</td>\n",
       "      <td>115.0</td>\n",
       "      <td>372.0</td>\n",
       "      <td>Belgaum</td>\n",
       "      <td>very high</td>\n",
       "      <td>Summer</td>\n",
       "    </tr>\n",
       "  </tbody>\n",
       "</table>\n",
       "</div>"
      ],
      "text/plain": [
       "       Unnamed: 0 State_Name  Year  Crop     Area  Production District_name  \\\n",
       "54116       54116  Karnataka  2010  Rice  68354.0    139200.0       Belgaum   \n",
       "54145       54145  Karnataka  2010  Rice    115.0       372.0       Belgaum   \n",
       "\n",
       "      Rainfall_amt  Season  \n",
       "54116    very high  Kharif  \n",
       "54145    very high  Summer  "
      ]
     },
     "execution_count": 2,
     "metadata": {},
     "output_type": "execute_result"
    }
   ],
   "source": [
    "df[((df['Crop'] == 'Rice') & (df['District_name'] == 'Belgaum') & (df['Year'] == 2010))]"
   ]
  },
  {
   "cell_type": "code",
   "execution_count": 3,
   "metadata": {},
   "outputs": [
    {
     "name": "stdout",
     "output_type": "stream",
     "text": [
      "[176688.0, 123581.0, 94818.0, 158758.0, 139200.0]\n",
      "[2014, 2013, 2012, 2011, 2010]\n"
     ]
    }
   ],
   "source": [
    "def yield__(crop,dis):\n",
    "    a = df[(df['District_name'] == dis)]\n",
    "    k = 0\n",
    "    for i in (a['Crop']).iteritems():\n",
    "        if str(i[1]) == crop:\n",
    "            k = k+1\n",
    "    if k == 0:\n",
    "        return json.dumps({'error': 'Not found'})\n",
    "    a = a[(a['Crop'] == crop)]\n",
    "    b = []\n",
    "    for i in (a['Year']).iteritems():\n",
    "        b.append(int(i[1]))\n",
    "        \n",
    "    b = list(set(b))\n",
    "    b.reverse()\n",
    "    \n",
    "    c = []\n",
    "    for i, j in zip(b,range(5)):\n",
    "        c.append(i)\n",
    "    b = c\n",
    "    \n",
    "    pr=[]\n",
    "    for i in range(len(b)):\n",
    "            ai = a[(a['Year'] == b[i])]\n",
    "            ai = float((ai['Production']).max())\n",
    "            pr.append(ai)\n",
    "    print(pr)\n",
    "    print(b)\n",
    "    \n",
    "yield__('Rice','Belgaum')"
   ]
  },
  {
   "cell_type": "code",
   "execution_count": null,
   "metadata": {},
   "outputs": [],
   "source": []
  }
 ],
 "metadata": {
  "kernelspec": {
   "display_name": "Python 3",
   "language": "python",
   "name": "python3"
  },
  "language_info": {
   "codemirror_mode": {
    "name": "ipython",
    "version": 3
   },
   "file_extension": ".py",
   "mimetype": "text/x-python",
   "name": "python",
   "nbconvert_exporter": "python",
   "pygments_lexer": "ipython3",
   "version": "3.7.4"
  }
 },
 "nbformat": 4,
 "nbformat_minor": 2
}
