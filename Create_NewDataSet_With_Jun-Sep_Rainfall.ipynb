{
 "cells": [
  {
   "cell_type": "code",
   "execution_count": 1,
   "metadata": {},
   "outputs": [],
   "source": [
    "import numpy as np \n",
    "import pandas as pd\n",
    "import matplotlib.pyplot as plt"
   ]
  },
  {
   "cell_type": "code",
   "execution_count": 2,
   "metadata": {},
   "outputs": [
    {
     "data": {
      "text/html": [
       "<div>\n",
       "<style scoped>\n",
       "    .dataframe tbody tr th:only-of-type {\n",
       "        vertical-align: middle;\n",
       "    }\n",
       "\n",
       "    .dataframe tbody tr th {\n",
       "        vertical-align: top;\n",
       "    }\n",
       "\n",
       "    .dataframe thead th {\n",
       "        text-align: right;\n",
       "    }\n",
       "</style>\n",
       "<table border=\"1\" class=\"dataframe\">\n",
       "  <thead>\n",
       "    <tr style=\"text-align: right;\">\n",
       "      <th></th>\n",
       "      <th>Unnamed: 0</th>\n",
       "      <th>YEAR</th>\n",
       "      <th>JAN</th>\n",
       "      <th>FEB</th>\n",
       "      <th>MAR</th>\n",
       "      <th>APR</th>\n",
       "      <th>MAY</th>\n",
       "      <th>JUN</th>\n",
       "      <th>JUL</th>\n",
       "      <th>AUG</th>\n",
       "      <th>SEP</th>\n",
       "      <th>OCT</th>\n",
       "      <th>NOV</th>\n",
       "      <th>DEC</th>\n",
       "      <th>ANNUAL</th>\n",
       "      <th>Jan-Feb</th>\n",
       "      <th>Mar-May</th>\n",
       "      <th>Jun-Sep</th>\n",
       "      <th>Oct-Dec</th>\n",
       "      <th>State_Name</th>\n",
       "    </tr>\n",
       "  </thead>\n",
       "  <tbody>\n",
       "    <tr>\n",
       "      <th>0</th>\n",
       "      <td>0</td>\n",
       "      <td>1901</td>\n",
       "      <td>49.2</td>\n",
       "      <td>87.1</td>\n",
       "      <td>29.2</td>\n",
       "      <td>2.3</td>\n",
       "      <td>528.8</td>\n",
       "      <td>517.5</td>\n",
       "      <td>365.1</td>\n",
       "      <td>481.1</td>\n",
       "      <td>332.6</td>\n",
       "      <td>388.5</td>\n",
       "      <td>558.2</td>\n",
       "      <td>33.6</td>\n",
       "      <td>3373.2</td>\n",
       "      <td>136.3</td>\n",
       "      <td>560.3</td>\n",
       "      <td>1696.3</td>\n",
       "      <td>980.3</td>\n",
       "      <td>Andaman &amp; Nicobar Islands</td>\n",
       "    </tr>\n",
       "    <tr>\n",
       "      <th>1</th>\n",
       "      <td>1</td>\n",
       "      <td>1902</td>\n",
       "      <td>0.0</td>\n",
       "      <td>159.8</td>\n",
       "      <td>12.2</td>\n",
       "      <td>0.0</td>\n",
       "      <td>446.1</td>\n",
       "      <td>537.1</td>\n",
       "      <td>228.9</td>\n",
       "      <td>753.7</td>\n",
       "      <td>666.2</td>\n",
       "      <td>197.2</td>\n",
       "      <td>359.0</td>\n",
       "      <td>160.5</td>\n",
       "      <td>3520.7</td>\n",
       "      <td>159.8</td>\n",
       "      <td>458.3</td>\n",
       "      <td>2185.9</td>\n",
       "      <td>716.7</td>\n",
       "      <td>Andaman &amp; Nicobar Islands</td>\n",
       "    </tr>\n",
       "    <tr>\n",
       "      <th>2</th>\n",
       "      <td>2</td>\n",
       "      <td>1903</td>\n",
       "      <td>12.7</td>\n",
       "      <td>144.0</td>\n",
       "      <td>0.0</td>\n",
       "      <td>1.0</td>\n",
       "      <td>235.1</td>\n",
       "      <td>479.9</td>\n",
       "      <td>728.4</td>\n",
       "      <td>326.7</td>\n",
       "      <td>339.0</td>\n",
       "      <td>181.2</td>\n",
       "      <td>284.4</td>\n",
       "      <td>225.0</td>\n",
       "      <td>2957.4</td>\n",
       "      <td>156.7</td>\n",
       "      <td>236.1</td>\n",
       "      <td>1874.0</td>\n",
       "      <td>690.6</td>\n",
       "      <td>Andaman &amp; Nicobar Islands</td>\n",
       "    </tr>\n",
       "    <tr>\n",
       "      <th>3</th>\n",
       "      <td>3</td>\n",
       "      <td>1904</td>\n",
       "      <td>9.4</td>\n",
       "      <td>14.7</td>\n",
       "      <td>0.0</td>\n",
       "      <td>202.4</td>\n",
       "      <td>304.5</td>\n",
       "      <td>495.1</td>\n",
       "      <td>502.0</td>\n",
       "      <td>160.1</td>\n",
       "      <td>820.4</td>\n",
       "      <td>222.2</td>\n",
       "      <td>308.7</td>\n",
       "      <td>40.1</td>\n",
       "      <td>3079.6</td>\n",
       "      <td>24.1</td>\n",
       "      <td>506.9</td>\n",
       "      <td>1977.6</td>\n",
       "      <td>571.0</td>\n",
       "      <td>Andaman &amp; Nicobar Islands</td>\n",
       "    </tr>\n",
       "    <tr>\n",
       "      <th>4</th>\n",
       "      <td>4</td>\n",
       "      <td>1905</td>\n",
       "      <td>1.3</td>\n",
       "      <td>0.0</td>\n",
       "      <td>3.3</td>\n",
       "      <td>26.9</td>\n",
       "      <td>279.5</td>\n",
       "      <td>628.7</td>\n",
       "      <td>368.7</td>\n",
       "      <td>330.5</td>\n",
       "      <td>297.0</td>\n",
       "      <td>260.7</td>\n",
       "      <td>25.4</td>\n",
       "      <td>344.7</td>\n",
       "      <td>2566.7</td>\n",
       "      <td>1.3</td>\n",
       "      <td>309.7</td>\n",
       "      <td>1624.9</td>\n",
       "      <td>630.8</td>\n",
       "      <td>Andaman &amp; Nicobar Islands</td>\n",
       "    </tr>\n",
       "  </tbody>\n",
       "</table>\n",
       "</div>"
      ],
      "text/plain": [
       "   Unnamed: 0  YEAR   JAN    FEB   MAR    APR    MAY    JUN    JUL    AUG  \\\n",
       "0           0  1901  49.2   87.1  29.2    2.3  528.8  517.5  365.1  481.1   \n",
       "1           1  1902   0.0  159.8  12.2    0.0  446.1  537.1  228.9  753.7   \n",
       "2           2  1903  12.7  144.0   0.0    1.0  235.1  479.9  728.4  326.7   \n",
       "3           3  1904   9.4   14.7   0.0  202.4  304.5  495.1  502.0  160.1   \n",
       "4           4  1905   1.3    0.0   3.3   26.9  279.5  628.7  368.7  330.5   \n",
       "\n",
       "     SEP    OCT    NOV    DEC  ANNUAL  Jan-Feb  Mar-May  Jun-Sep  Oct-Dec  \\\n",
       "0  332.6  388.5  558.2   33.6  3373.2    136.3    560.3   1696.3    980.3   \n",
       "1  666.2  197.2  359.0  160.5  3520.7    159.8    458.3   2185.9    716.7   \n",
       "2  339.0  181.2  284.4  225.0  2957.4    156.7    236.1   1874.0    690.6   \n",
       "3  820.4  222.2  308.7   40.1  3079.6     24.1    506.9   1977.6    571.0   \n",
       "4  297.0  260.7   25.4  344.7  2566.7      1.3    309.7   1624.9    630.8   \n",
       "\n",
       "                  State_Name  \n",
       "0  Andaman & Nicobar Islands  \n",
       "1  Andaman & Nicobar Islands  \n",
       "2  Andaman & Nicobar Islands  \n",
       "3  Andaman & Nicobar Islands  \n",
       "4  Andaman & Nicobar Islands  "
      ]
     },
     "execution_count": 2,
     "metadata": {},
     "output_type": "execute_result"
    }
   ],
   "source": [
    "raindata = pd.read_excel(\"E:/WinHackaton/analyze/raindata.xlsx\")\n",
    "raindata.head()"
   ]
  },
  {
   "cell_type": "code",
   "execution_count": 3,
   "metadata": {},
   "outputs": [],
   "source": [
    "crop = pd.read_excel(\"E:/WinHackaton/analyze/newnew_1.xlsx\")"
   ]
  },
  {
   "cell_type": "code",
   "execution_count": 4,
   "metadata": {
    "scrolled": true
   },
   "outputs": [
    {
     "data": {
      "text/plain": [
       "array(['Andaman and Nicobar Islands', 'Andhra Pradesh',\n",
       "       'Arunachal Pradesh', 'Bihar', 'Chhattisgarh', 'Goa', 'Gujarat',\n",
       "       'Himachal Pradesh', 'Jammu and Kashmir', 'Jharkhand', 'Karnataka',\n",
       "       'Kerala', 'Madhya Pradesh', 'Maharashtra', 'Odisha', 'Punjab',\n",
       "       'Rajasthan', 'Tamil Nadu', 'Telangana', 'Uttar Pradesh',\n",
       "       'Uttarakhand', 'Assam', 'Chandigarh', 'Haryana', 'Manipur',\n",
       "       'Meghalaya', 'Mizoram', 'Nagaland', 'Sikkim', 'Tripura',\n",
       "       'West Bengal'], dtype=object)"
      ]
     },
     "execution_count": 4,
     "metadata": {},
     "output_type": "execute_result"
    }
   ],
   "source": [
    "crop.State_Name.unique()"
   ]
  },
  {
   "cell_type": "code",
   "execution_count": 5,
   "metadata": {},
   "outputs": [],
   "source": [
    "cropdata = crop[(crop['State_Name']=='West Bengal')|\n",
    "                (crop['State_Name']=='Uttar Pradesh')|\n",
    "                (crop['State_Name']=='Andhra Pradesh')|\n",
    "                (crop['State_Name']=='Punjab')|\n",
    "                (crop['State_Name']=='Haryana')|\n",
    "                (crop['State_Name']=='Madhya Pradesh')|\n",
    "                (crop['State_Name']=='Rajasthan')|\n",
    "                (crop['State_Name']=='Gujarat')|\n",
    "                (crop['State_Name']=='Maharashtra')|\n",
    "                (crop['State_Name']=='Karnataka')|\n",
    "                (crop['State_Name']=='Tamil Nadu')|\n",
    "                (crop['State_Name']=='Telangana')|\n",
    "                (crop['State_Name']=='Kerala')|\n",
    "                (crop['State_Name']=='Himachal Pradesh')|\n",
    "                (crop['State_Name']=='Assam')|\n",
    "                                  \n",
    "                (crop['State_Name']=='Chhattisgarh')|\n",
    "                (crop['State_Name']=='Bihar')|\n",
    "                (crop['State_Name']=='Odisha')|\n",
    "                (crop['State_Name']=='Jammu and Kashmir')|\n",
    "                (crop['State_Name']=='Jharkhand')|\n",
    "                (crop['State_Name']=='Goa')|\n",
    "                (crop['State_Name']=='Arunachal Pradesh')|\n",
    "                (crop['State_Name']=='Manipur')|\n",
    "                (crop['State_Name']=='Sikkim')|\n",
    "                (crop['State_Name']=='Nagaland')|\n",
    "                (crop['State_Name']=='Uttarakhand')|\n",
    "                (crop['State_Name']=='Tripura')|\n",
    "                (crop['State_Name']=='Meghalaya')|\n",
    "                (crop['State_Name']=='Mizoram')]         "
   ]
  },
  {
   "cell_type": "code",
   "execution_count": 6,
   "metadata": {},
   "outputs": [
    {
     "data": {
      "text/plain": [
       "array(['Andhra Pradesh', 'Arunachal Pradesh', 'Bihar', 'Chhattisgarh',\n",
       "       'Goa', 'Gujarat', 'Himachal Pradesh', 'Jammu and Kashmir',\n",
       "       'Jharkhand', 'Karnataka', 'Kerala', 'Madhya Pradesh',\n",
       "       'Maharashtra', 'Odisha', 'Punjab', 'Rajasthan', 'Tamil Nadu',\n",
       "       'Telangana', 'Uttar Pradesh', 'Uttarakhand', 'Assam', 'Haryana',\n",
       "       'Manipur', 'Meghalaya', 'Mizoram', 'Nagaland', 'Sikkim', 'Tripura',\n",
       "       'West Bengal'], dtype=object)"
      ]
     },
     "execution_count": 6,
     "metadata": {},
     "output_type": "execute_result"
    }
   ],
   "source": [
    "cropdata.State_Name.unique()"
   ]
  },
  {
   "cell_type": "code",
   "execution_count": 7,
   "metadata": {},
   "outputs": [
    {
     "data": {
      "text/plain": [
       "array(['Andaman & Nicobar Islands', 'Arunachal Pradesh', 'Meghalaya',\n",
       "       'Nagaland', 'West Bengal', 'Orissa', 'Jharkhand', 'Bihar',\n",
       "       'Uttar Pradesh', 'Uttarakhand', 'Haryana', 'Punjab',\n",
       "       'Himachal Pradesh', 'Jammu & Kashmir', 'Rajasthan',\n",
       "       'Madhya Pradesh', 'Gujarat', 'Konkan & Goa', 'Maharashtra',\n",
       "       'Matathwada', 'Vidarbha', 'Chhattisgarh', 'Coastal Andhra Pradesh',\n",
       "       'Telangana', 'Rayalseema', 'Tamil Nadu', 'Karnataka', 'Kerala',\n",
       "       'Lakshadweep', 'Assam', 'Manipur', 'Mizoram', 'Tripura', 'Sikkim',\n",
       "       'Delhi', 'Chandigarh'], dtype=object)"
      ]
     },
     "execution_count": 7,
     "metadata": {},
     "output_type": "execute_result"
    }
   ],
   "source": [
    "raindata.State_Name.unique()"
   ]
  },
  {
   "cell_type": "code",
   "execution_count": 8,
   "metadata": {},
   "outputs": [
    {
     "data": {
      "text/plain": [
       "(4116, 20)"
      ]
     },
     "execution_count": 8,
     "metadata": {},
     "output_type": "execute_result"
    }
   ],
   "source": [
    "raindata.shape"
   ]
  },
  {
   "cell_type": "code",
   "execution_count": 9,
   "metadata": {},
   "outputs": [],
   "source": [
    "valid_states_rain = raindata[['State_Name','YEAR','Jun-Sep']]"
   ]
  },
  {
   "cell_type": "code",
   "execution_count": 10,
   "metadata": {},
   "outputs": [
    {
     "data": {
      "text/plain": [
       "(684, 3)"
      ]
     },
     "execution_count": 10,
     "metadata": {},
     "output_type": "execute_result"
    }
   ],
   "source": [
    "valid_states_rain = valid_states_rain[valid_states_rain['YEAR']>1996]\n",
    "valid_states_rain.shape"
   ]
  },
  {
   "cell_type": "code",
   "execution_count": 11,
   "metadata": {},
   "outputs": [
    {
     "data": {
      "text/plain": [
       "36"
      ]
     },
     "execution_count": 11,
     "metadata": {},
     "output_type": "execute_result"
    }
   ],
   "source": [
    "len(valid_states_rain.State_Name.unique())"
   ]
  },
  {
   "cell_type": "code",
   "execution_count": 12,
   "metadata": {},
   "outputs": [
    {
     "data": {
      "text/plain": [
       "array(['Andaman & Nicobar Islands', 'Arunachal Pradesh', 'Meghalaya',\n",
       "       'Nagaland', 'West Bengal', 'Orissa', 'Jharkhand', 'Bihar',\n",
       "       'Uttar Pradesh', 'Uttarakhand', 'Haryana', 'Punjab',\n",
       "       'Himachal Pradesh', 'Jammu & Kashmir', 'Rajasthan',\n",
       "       'Madhya Pradesh', 'Gujarat', 'Konkan & Goa', 'Maharashtra',\n",
       "       'Matathwada', 'Vidarbha', 'Chhattisgarh', 'Coastal Andhra Pradesh',\n",
       "       'Telangana', 'Rayalseema', 'Tamil Nadu', 'Karnataka', 'Kerala',\n",
       "       'Lakshadweep', 'Assam', 'Manipur', 'Mizoram', 'Tripura', 'Sikkim',\n",
       "       'Delhi', 'Chandigarh'], dtype=object)"
      ]
     },
     "execution_count": 12,
     "metadata": {},
     "output_type": "execute_result"
    }
   ],
   "source": [
    "valid_states_rain.State_Name.unique()"
   ]
  },
  {
   "cell_type": "code",
   "execution_count": 13,
   "metadata": {},
   "outputs": [],
   "source": [
    "new_valid_states_rain = valid_states_rain[(valid_states_rain['State_Name']=='West Bengal')|\n",
    "                             (valid_states_rain['State_Name']=='Uttar Pradesh')|\n",
    "                             (valid_states_rain['State_Name']=='Coastal Andhra Pradesh')| #ye\n",
    "                             (valid_states_rain['State_Name']=='Punjab')|\n",
    "                             (valid_states_rain['State_Name']=='Haryana')|\n",
    "                             (valid_states_rain['State_Name']=='Madhya Pradesh')|\n",
    "                             (valid_states_rain['State_Name']=='Rajasthan')|\n",
    "                             (valid_states_rain['State_Name']=='Gujarat')|\n",
    "                             (valid_states_rain['State_Name']=='Maharashtra')|\n",
    "                             (valid_states_rain['State_Name']=='Karnataka')|\n",
    "                             (valid_states_rain['State_Name']=='Tamil Nadu')| #ye\n",
    "                             (valid_states_rain['State_Name']=='Telangana')|\n",
    "                             (valid_states_rain['State_Name']=='Kerala')|\n",
    "                             (valid_states_rain['State_Name']=='Himachal Pradesh')|\n",
    "                             (valid_states_rain['State_Name']=='Assam')|\n",
    "                                  \n",
    "                             (valid_states_rain['State_Name']=='Chhattisgarh')|\n",
    "                             (valid_states_rain['State_Name']=='Bihar')|\n",
    "                             (valid_states_rain['State_Name']=='Orissa')| #ye\n",
    "                             (valid_states_rain['State_Name']=='Jammu & Kashmir')| #ye\n",
    "                             (valid_states_rain['State_Name']=='Jharkhand')|\n",
    "                             (valid_states_rain['State_Name']=='Konkan & Goa')| #ye\n",
    "                             (valid_states_rain['State_Name']=='Arunachal Pradesh')|\n",
    "                             (valid_states_rain['State_Name']=='Manipur')|\n",
    "                             (valid_states_rain['State_Name']=='Sikkim')|\n",
    "                             (valid_states_rain['State_Name']=='Nagaland')|\n",
    "                             (valid_states_rain['State_Name']=='Uttarakhand')|\n",
    "                             (valid_states_rain['State_Name']=='Tripura')|\n",
    "                             (valid_states_rain['State_Name']=='Meghalaya')|\n",
    "                             (valid_states_rain['State_Name']=='Mizoram')]         "
   ]
  },
  {
   "cell_type": "code",
   "execution_count": 14,
   "metadata": {},
   "outputs": [
    {
     "data": {
      "text/plain": [
       "array(['Arunachal Pradesh', 'Meghalaya', 'Nagaland', 'West Bengal',\n",
       "       'Orissa', 'Jharkhand', 'Bihar', 'Uttar Pradesh', 'Uttarakhand',\n",
       "       'Haryana', 'Punjab', 'Himachal Pradesh', 'Jammu & Kashmir',\n",
       "       'Rajasthan', 'Madhya Pradesh', 'Gujarat', 'Konkan & Goa',\n",
       "       'Maharashtra', 'Chhattisgarh', 'Coastal Andhra Pradesh',\n",
       "       'Telangana', 'Tamil Nadu', 'Karnataka', 'Kerala', 'Assam',\n",
       "       'Manipur', 'Mizoram', 'Tripura', 'Sikkim'], dtype=object)"
      ]
     },
     "execution_count": 14,
     "metadata": {},
     "output_type": "execute_result"
    }
   ],
   "source": [
    "new_valid_states_rain.State_Name.unique()"
   ]
  },
  {
   "cell_type": "code",
   "execution_count": 15,
   "metadata": {},
   "outputs": [
    {
     "data": {
      "text/plain": [
       "array(['Andhra Pradesh', 'Arunachal Pradesh', 'Bihar', 'Chhattisgarh',\n",
       "       'Goa', 'Gujarat', 'Himachal Pradesh', 'Jammu and Kashmir',\n",
       "       'Jharkhand', 'Karnataka', 'Kerala', 'Madhya Pradesh',\n",
       "       'Maharashtra', 'Odisha', 'Punjab', 'Rajasthan', 'Tamil Nadu',\n",
       "       'Telangana', 'Uttar Pradesh', 'Uttarakhand', 'Assam', 'Haryana',\n",
       "       'Manipur', 'Meghalaya', 'Mizoram', 'Nagaland', 'Sikkim', 'Tripura',\n",
       "       'West Bengal'], dtype=object)"
      ]
     },
     "execution_count": 15,
     "metadata": {},
     "output_type": "execute_result"
    }
   ],
   "source": [
    "cropdata.State_Name.unique()"
   ]
  },
  {
   "cell_type": "code",
   "execution_count": 16,
   "metadata": {},
   "outputs": [],
   "source": [
    "new_valid_states_rain = new_valid_states_rain.replace('Coastal Andhra Pradesh','Andhra Pradesh')\n",
    "new_valid_states_rain = new_valid_states_rain.replace('Orissa','Odisha')\n",
    "#new_valid_states_rain = new_valid_states_rain.replace('Tamil Nadu','Tamilnadu')\n",
    "new_valid_states_rain = new_valid_states_rain.replace('Jammu & Kashmir','Jammu and Kashmir')\n",
    "new_valid_states_rain = new_valid_states_rain.replace('Konkan & Goa','Goa')"
   ]
  },
  {
   "cell_type": "code",
   "execution_count": 19,
   "metadata": {},
   "outputs": [
    {
     "data": {
      "text/html": [
       "<div>\n",
       "<style scoped>\n",
       "    .dataframe tbody tr th:only-of-type {\n",
       "        vertical-align: middle;\n",
       "    }\n",
       "\n",
       "    .dataframe tbody tr th {\n",
       "        vertical-align: top;\n",
       "    }\n",
       "\n",
       "    .dataframe thead th {\n",
       "        text-align: right;\n",
       "    }\n",
       "</style>\n",
       "<table border=\"1\" class=\"dataframe\">\n",
       "  <thead>\n",
       "    <tr style=\"text-align: right;\">\n",
       "      <th></th>\n",
       "      <th>State_Name</th>\n",
       "      <th>YEAR</th>\n",
       "      <th>Jun-Sep</th>\n",
       "    </tr>\n",
       "  </thead>\n",
       "  <tbody>\n",
       "    <tr>\n",
       "      <th>188</th>\n",
       "      <td>Arunachal Pradesh</td>\n",
       "      <td>1997</td>\n",
       "      <td>1583.7</td>\n",
       "    </tr>\n",
       "    <tr>\n",
       "      <th>189</th>\n",
       "      <td>Arunachal Pradesh</td>\n",
       "      <td>1998</td>\n",
       "      <td>2707.4</td>\n",
       "    </tr>\n",
       "    <tr>\n",
       "      <th>190</th>\n",
       "      <td>Arunachal Pradesh</td>\n",
       "      <td>1999</td>\n",
       "      <td>1519.0</td>\n",
       "    </tr>\n",
       "    <tr>\n",
       "      <th>191</th>\n",
       "      <td>Arunachal Pradesh</td>\n",
       "      <td>2000</td>\n",
       "      <td>1650.0</td>\n",
       "    </tr>\n",
       "    <tr>\n",
       "      <th>192</th>\n",
       "      <td>Arunachal Pradesh</td>\n",
       "      <td>2001</td>\n",
       "      <td>1147.8</td>\n",
       "    </tr>\n",
       "    <tr>\n",
       "      <th>...</th>\n",
       "      <td>...</td>\n",
       "      <td>...</td>\n",
       "      <td>...</td>\n",
       "    </tr>\n",
       "    <tr>\n",
       "      <th>3881</th>\n",
       "      <td>Sikkim</td>\n",
       "      <td>2011</td>\n",
       "      <td>1858.6</td>\n",
       "    </tr>\n",
       "    <tr>\n",
       "      <th>3882</th>\n",
       "      <td>Sikkim</td>\n",
       "      <td>2012</td>\n",
       "      <td>2056.0</td>\n",
       "    </tr>\n",
       "    <tr>\n",
       "      <th>3883</th>\n",
       "      <td>Sikkim</td>\n",
       "      <td>2013</td>\n",
       "      <td>1717.6</td>\n",
       "    </tr>\n",
       "    <tr>\n",
       "      <th>3884</th>\n",
       "      <td>Sikkim</td>\n",
       "      <td>2014</td>\n",
       "      <td>1862.6</td>\n",
       "    </tr>\n",
       "    <tr>\n",
       "      <th>3885</th>\n",
       "      <td>Sikkim</td>\n",
       "      <td>2015</td>\n",
       "      <td>1883.0</td>\n",
       "    </tr>\n",
       "  </tbody>\n",
       "</table>\n",
       "<p>551 rows × 3 columns</p>\n",
       "</div>"
      ],
      "text/plain": [
       "             State_Name  YEAR  Jun-Sep\n",
       "188   Arunachal Pradesh  1997   1583.7\n",
       "189   Arunachal Pradesh  1998   2707.4\n",
       "190   Arunachal Pradesh  1999   1519.0\n",
       "191   Arunachal Pradesh  2000   1650.0\n",
       "192   Arunachal Pradesh  2001   1147.8\n",
       "...                 ...   ...      ...\n",
       "3881             Sikkim  2011   1858.6\n",
       "3882             Sikkim  2012   2056.0\n",
       "3883             Sikkim  2013   1717.6\n",
       "3884             Sikkim  2014   1862.6\n",
       "3885             Sikkim  2015   1883.0\n",
       "\n",
       "[551 rows x 3 columns]"
      ]
     },
     "execution_count": 19,
     "metadata": {},
     "output_type": "execute_result"
    }
   ],
   "source": [
    "new_valid_states_rain"
   ]
  },
  {
   "cell_type": "code",
   "execution_count": 22,
   "metadata": {},
   "outputs": [
    {
     "name": "stdout",
     "output_type": "stream",
     "text": [
      "{'West Bengal', 'Madhya Pradesh', 'Goa', 'Meghalaya', 'Andhra Pradesh', 'Maharashtra', 'Gujarat', 'Manipur', 'Tripura', 'Tamil Nadu', 'Jammu and Kashmir', 'Arunachal Pradesh', 'Uttar Pradesh', 'Haryana', 'Rajasthan', 'Chhattisgarh', 'Assam', 'Nagaland', 'Mizoram', 'Kerala', 'Jharkhand', 'Himachal Pradesh', 'Bihar', 'Telangana', 'Odisha', 'Uttarakhand', 'Karnataka', 'Sikkim', 'Punjab'}\n",
      "{'West Bengal', 'Madhya Pradesh', 'Goa', 'Meghalaya', 'Andhra Pradesh', 'Maharashtra', 'Gujarat', 'Manipur', 'Tripura', 'Tamil Nadu', 'Jammu and Kashmir', 'Arunachal Pradesh', 'Uttar Pradesh', 'Haryana', 'Rajasthan', 'Chhattisgarh', 'Assam', 'Nagaland', 'Mizoram', 'Kerala', 'Jharkhand', 'Himachal Pradesh', 'Bihar', 'Telangana', 'Odisha', 'Uttarakhand', 'Karnataka', 'Sikkim', 'Punjab'}\n",
      "{1997, 1998, 1999, 2000, 2001, 2002, 2003, 2004, 2005, 2006, 2007, 2008, 2009, 2010, 2011, 2012, 2013, 2014, 2015}\n",
      "{1997, 1998, 1999, 2000, 2001, 2002, 2003, 2004, 2005, 2006, 2007, 2008, 2009, 2010, 2011, 2012, 2013, 2014, 2015}\n"
     ]
    }
   ],
   "source": [
    "print(set(new_valid_states_rain['State_Name']))\n",
    "print(set(cropdata['State_Name']))\n",
    "print(set(new_valid_states_rain['YEAR']))\n",
    "print(set(cropdata['Crop_Year']))"
   ]
  },
  {
   "cell_type": "code",
   "execution_count": 23,
   "metadata": {},
   "outputs": [
    {
     "name": "stdout",
     "output_type": "stream",
     "text": [
      "{'West Bengal', 'Madhya Pradesh', 'Goa', 'Meghalaya', 'Andhra Pradesh', 'Maharashtra', 'Gujarat', 'Manipur', 'Tripura', 'Tamil Nadu', 'Jammu and Kashmir', 'Arunachal Pradesh', 'Uttar Pradesh', 'Haryana', 'Rajasthan', 'Chhattisgarh', 'Assam', 'Nagaland', 'Mizoram', 'Kerala', 'Jharkhand', 'Himachal Pradesh', 'Bihar', 'Telangana', 'Odisha', 'Uttarakhand', 'Karnataka', 'Sikkim', 'Punjab'}\n",
      "{1997, 1998, 1999, 2000, 2001, 2002, 2003, 2004, 2005, 2006, 2007, 2008, 2009, 2010, 2011, 2012, 2013, 2014, 2015}\n"
     ]
    }
   ],
   "source": [
    "states_set = set(cropdata['State_Name'])\n",
    "year_set = set(cropdata['Crop_Year'])\n",
    "print(states_set)\n",
    "print(year_set)"
   ]
  },
  {
   "cell_type": "code",
   "execution_count": 24,
   "metadata": {},
   "outputs": [
    {
     "name": "stderr",
     "output_type": "stream",
     "text": [
      "C:\\Users\\Harsh\\Anaconda3\\lib\\site-packages\\pandas\\core\\indexing.py:844: SettingWithCopyWarning: \n",
      "A value is trying to be set on a copy of a slice from a DataFrame.\n",
      "Try using .loc[row_indexer,col_indexer] = value instead\n",
      "\n",
      "See the caveats in the documentation: https://pandas.pydata.org/pandas-docs/stable/user_guide/indexing.html#returning-a-view-versus-a-copy\n",
      "  self.obj[key] = _infer_fill_value(value)\n",
      "C:\\Users\\Harsh\\Anaconda3\\lib\\site-packages\\pandas\\core\\indexing.py:965: SettingWithCopyWarning: \n",
      "A value is trying to be set on a copy of a slice from a DataFrame.\n",
      "Try using .loc[row_indexer,col_indexer] = value instead\n",
      "\n",
      "See the caveats in the documentation: https://pandas.pydata.org/pandas-docs/stable/user_guide/indexing.html#returning-a-view-versus-a-copy\n",
      "  self.obj[item] = s\n"
     ]
    }
   ],
   "source": [
    "for state in states_set:\n",
    "    for year in year_set:\n",
    "        #print(valid_states_crop[valid_states_crop['State']==state]['Year'])\n",
    "        if(year in list(cropdata[cropdata['State_Name']==state]['Crop_Year'])):\n",
    "            #print(state,year)\n",
    "            cropdata.loc[(cropdata['State_Name']==state) & \\\n",
    "                              (cropdata['Crop_Year']==year),'Jun-Sep']= \\\n",
    "            list(new_valid_states_rain[(new_valid_states_rain['State_Name']==state) & \\\n",
    "                                   (new_valid_states_rain['YEAR']==year)]['Jun-Sep'])[0]"
   ]
  },
  {
   "cell_type": "code",
   "execution_count": 25,
   "metadata": {},
   "outputs": [
    {
     "data": {
      "text/html": [
       "<div>\n",
       "<style scoped>\n",
       "    .dataframe tbody tr th:only-of-type {\n",
       "        vertical-align: middle;\n",
       "    }\n",
       "\n",
       "    .dataframe tbody tr th {\n",
       "        vertical-align: top;\n",
       "    }\n",
       "\n",
       "    .dataframe thead th {\n",
       "        text-align: right;\n",
       "    }\n",
       "</style>\n",
       "<table border=\"1\" class=\"dataframe\">\n",
       "  <thead>\n",
       "    <tr style=\"text-align: right;\">\n",
       "      <th></th>\n",
       "      <th>Unnamed: 0</th>\n",
       "      <th>State_Name</th>\n",
       "      <th>Crop_Year</th>\n",
       "      <th>Crop</th>\n",
       "      <th>Area</th>\n",
       "      <th>Production</th>\n",
       "      <th>District_name</th>\n",
       "      <th>Rainfall_amt</th>\n",
       "      <th>Season</th>\n",
       "      <th>Jun-Sep</th>\n",
       "    </tr>\n",
       "  </thead>\n",
       "  <tbody>\n",
       "    <tr>\n",
       "      <th>144</th>\n",
       "      <td>144</td>\n",
       "      <td>Andhra Pradesh</td>\n",
       "      <td>1997</td>\n",
       "      <td>Arhar/Tur</td>\n",
       "      <td>21400.0</td>\n",
       "      <td>2600.0</td>\n",
       "      <td>Anantapur</td>\n",
       "      <td>low</td>\n",
       "      <td>Kharif</td>\n",
       "      <td>662.7</td>\n",
       "    </tr>\n",
       "    <tr>\n",
       "      <th>145</th>\n",
       "      <td>145</td>\n",
       "      <td>Andhra Pradesh</td>\n",
       "      <td>1997</td>\n",
       "      <td>Bajra</td>\n",
       "      <td>1400.0</td>\n",
       "      <td>500.0</td>\n",
       "      <td>Anantapur</td>\n",
       "      <td>low</td>\n",
       "      <td>Kharif</td>\n",
       "      <td>662.7</td>\n",
       "    </tr>\n",
       "    <tr>\n",
       "      <th>146</th>\n",
       "      <td>146</td>\n",
       "      <td>Andhra Pradesh</td>\n",
       "      <td>1997</td>\n",
       "      <td>Castor seed</td>\n",
       "      <td>1000.0</td>\n",
       "      <td>100.0</td>\n",
       "      <td>Anantapur</td>\n",
       "      <td>low</td>\n",
       "      <td>Kharif</td>\n",
       "      <td>662.7</td>\n",
       "    </tr>\n",
       "    <tr>\n",
       "      <th>147</th>\n",
       "      <td>147</td>\n",
       "      <td>Andhra Pradesh</td>\n",
       "      <td>1997</td>\n",
       "      <td>Cotton(lint)</td>\n",
       "      <td>7300.0</td>\n",
       "      <td>9400.0</td>\n",
       "      <td>Anantapur</td>\n",
       "      <td>low</td>\n",
       "      <td>Kharif</td>\n",
       "      <td>662.7</td>\n",
       "    </tr>\n",
       "    <tr>\n",
       "      <th>148</th>\n",
       "      <td>148</td>\n",
       "      <td>Andhra Pradesh</td>\n",
       "      <td>1997</td>\n",
       "      <td>Dry chillies</td>\n",
       "      <td>3700.0</td>\n",
       "      <td>7100.0</td>\n",
       "      <td>Anantapur</td>\n",
       "      <td>low</td>\n",
       "      <td>Kharif</td>\n",
       "      <td>662.7</td>\n",
       "    </tr>\n",
       "    <tr>\n",
       "      <th>...</th>\n",
       "      <td>...</td>\n",
       "      <td>...</td>\n",
       "      <td>...</td>\n",
       "      <td>...</td>\n",
       "      <td>...</td>\n",
       "      <td>...</td>\n",
       "      <td>...</td>\n",
       "      <td>...</td>\n",
       "      <td>...</td>\n",
       "      <td>...</td>\n",
       "    </tr>\n",
       "    <tr>\n",
       "      <th>233556</th>\n",
       "      <td>233556</td>\n",
       "      <td>West Bengal</td>\n",
       "      <td>2014</td>\n",
       "      <td>Rice</td>\n",
       "      <td>306.0</td>\n",
       "      <td>801.0</td>\n",
       "      <td>Purulia</td>\n",
       "      <td>high</td>\n",
       "      <td>Summer</td>\n",
       "      <td>1862.6</td>\n",
       "    </tr>\n",
       "    <tr>\n",
       "      <th>233557</th>\n",
       "      <td>233557</td>\n",
       "      <td>West Bengal</td>\n",
       "      <td>2014</td>\n",
       "      <td>Sesamum</td>\n",
       "      <td>627.0</td>\n",
       "      <td>463.0</td>\n",
       "      <td>Purulia</td>\n",
       "      <td>high</td>\n",
       "      <td>Summer</td>\n",
       "      <td>1862.6</td>\n",
       "    </tr>\n",
       "    <tr>\n",
       "      <th>233558</th>\n",
       "      <td>233558</td>\n",
       "      <td>West Bengal</td>\n",
       "      <td>2014</td>\n",
       "      <td>Sugarcane</td>\n",
       "      <td>324.0</td>\n",
       "      <td>16250.0</td>\n",
       "      <td>Purulia</td>\n",
       "      <td>high</td>\n",
       "      <td>Whole Year</td>\n",
       "      <td>1862.6</td>\n",
       "    </tr>\n",
       "    <tr>\n",
       "      <th>233559</th>\n",
       "      <td>233559</td>\n",
       "      <td>West Bengal</td>\n",
       "      <td>2014</td>\n",
       "      <td>Rice</td>\n",
       "      <td>279151.0</td>\n",
       "      <td>597899.0</td>\n",
       "      <td>Purulia</td>\n",
       "      <td>high</td>\n",
       "      <td>Winter</td>\n",
       "      <td>1862.6</td>\n",
       "    </tr>\n",
       "    <tr>\n",
       "      <th>233560</th>\n",
       "      <td>233560</td>\n",
       "      <td>West Bengal</td>\n",
       "      <td>2014</td>\n",
       "      <td>Sesamum</td>\n",
       "      <td>175.0</td>\n",
       "      <td>88.0</td>\n",
       "      <td>Purulia</td>\n",
       "      <td>high</td>\n",
       "      <td>Winter</td>\n",
       "      <td>1862.6</td>\n",
       "    </tr>\n",
       "  </tbody>\n",
       "</table>\n",
       "<p>233327 rows × 10 columns</p>\n",
       "</div>"
      ],
      "text/plain": [
       "        Unnamed: 0      State_Name  Crop_Year          Crop      Area  \\\n",
       "144            144  Andhra Pradesh       1997     Arhar/Tur   21400.0   \n",
       "145            145  Andhra Pradesh       1997         Bajra    1400.0   \n",
       "146            146  Andhra Pradesh       1997   Castor seed    1000.0   \n",
       "147            147  Andhra Pradesh       1997  Cotton(lint)    7300.0   \n",
       "148            148  Andhra Pradesh       1997  Dry chillies    3700.0   \n",
       "...            ...             ...        ...           ...       ...   \n",
       "233556      233556     West Bengal       2014          Rice     306.0   \n",
       "233557      233557     West Bengal       2014       Sesamum     627.0   \n",
       "233558      233558     West Bengal       2014     Sugarcane     324.0   \n",
       "233559      233559     West Bengal       2014          Rice  279151.0   \n",
       "233560      233560     West Bengal       2014       Sesamum     175.0   \n",
       "\n",
       "        Production District_name Rainfall_amt      Season  Jun-Sep  \n",
       "144         2600.0     Anantapur          low      Kharif    662.7  \n",
       "145          500.0     Anantapur          low      Kharif    662.7  \n",
       "146          100.0     Anantapur          low      Kharif    662.7  \n",
       "147         9400.0     Anantapur          low      Kharif    662.7  \n",
       "148         7100.0     Anantapur          low      Kharif    662.7  \n",
       "...            ...           ...          ...         ...      ...  \n",
       "233556       801.0       Purulia         high      Summer   1862.6  \n",
       "233557       463.0       Purulia         high      Summer   1862.6  \n",
       "233558     16250.0       Purulia         high  Whole Year   1862.6  \n",
       "233559    597899.0       Purulia         high      Winter   1862.6  \n",
       "233560        88.0       Purulia         high      Winter   1862.6  \n",
       "\n",
       "[233327 rows x 10 columns]"
      ]
     },
     "execution_count": 25,
     "metadata": {},
     "output_type": "execute_result"
    }
   ],
   "source": [
    "cropdata"
   ]
  },
  {
   "cell_type": "code",
   "execution_count": 26,
   "metadata": {},
   "outputs": [
    {
     "data": {
      "text/plain": [
       "(233327, 10)"
      ]
     },
     "execution_count": 26,
     "metadata": {},
     "output_type": "execute_result"
    }
   ],
   "source": [
    "cropdata.shape"
   ]
  },
  {
   "cell_type": "code",
   "execution_count": 27,
   "metadata": {},
   "outputs": [
    {
     "data": {
      "text/plain": [
       "Unnamed: 0       0\n",
       "State_Name       0\n",
       "Crop_Year        0\n",
       "Crop             0\n",
       "Area             0\n",
       "Production       0\n",
       "District_name    0\n",
       "Rainfall_amt     0\n",
       "Season           0\n",
       "Jun-Sep          0\n",
       "dtype: int64"
      ]
     },
     "execution_count": 27,
     "metadata": {},
     "output_type": "execute_result"
    }
   ],
   "source": [
    "cropdata.isnull().sum()"
   ]
  },
  {
   "cell_type": "code",
   "execution_count": 38,
   "metadata": {},
   "outputs": [
    {
     "data": {
      "text/plain": [
       "array(['Andhra Pradesh', 'Arunachal Pradesh', 'Bihar', 'Chhattisgarh',\n",
       "       'Goa', 'Gujarat', 'Himachal Pradesh', 'Jammu and Kashmir',\n",
       "       'Jharkhand', 'Karnataka', 'Kerala', 'Madhya Pradesh',\n",
       "       'Maharashtra', 'Odisha', 'Punjab', 'Rajasthan', 'Tamil Nadu',\n",
       "       'Telangana', 'Uttar Pradesh', 'Uttarakhand', 'Assam', 'Haryana',\n",
       "       'Manipur', 'Meghalaya', 'Mizoram', 'Nagaland', 'Sikkim', 'Tripura',\n",
       "       'West Bengal'], dtype=object)"
      ]
     },
     "execution_count": 38,
     "metadata": {},
     "output_type": "execute_result"
    }
   ],
   "source": [
    "cropdata.State_Name.unique()"
   ]
  },
  {
   "cell_type": "code",
   "execution_count": 37,
   "metadata": {},
   "outputs": [
    {
     "ename": "TypeError",
     "evalue": "'DataFrame' object is not callable",
     "output_type": "error",
     "traceback": [
      "\u001b[1;31m---------------------------------------------------------------------------\u001b[0m",
      "\u001b[1;31mTypeError\u001b[0m                                 Traceback (most recent call last)",
      "\u001b[1;32m<ipython-input-37-ba4b806b59b6>\u001b[0m in \u001b[0;36m<module>\u001b[1;34m\u001b[0m\n\u001b[1;32m----> 1\u001b[1;33m \u001b[0mcropdata\u001b[0m\u001b[1;33m(\u001b[0m\u001b[0mcropdata\u001b[0m\u001b[1;33m[\u001b[0m\u001b[1;33m:\u001b[0m\u001b[1;33m-\u001b[0m\u001b[1;36m1\u001b[0m\u001b[1;33m]\u001b[0m\u001b[1;33m)\u001b[0m\u001b[1;33m\u001b[0m\u001b[1;33m\u001b[0m\u001b[0m\n\u001b[0m",
      "\u001b[1;31mTypeError\u001b[0m: 'DataFrame' object is not callable"
     ]
    }
   ],
   "source": [
    "new_valid_states_rain = valid_states_rain[(valid_states_rain['State_Name']=='West Bengal')|\n",
    "                             (valid_states_rain['State_Name']=='Uttar Pradesh')|\n",
    "                             (valid_states_rain['State_Name']=='Coastal Andhra Pradesh')| #ye\n",
    "                             (valid_states_rain['State_Name']=='Punjab')|\n",
    "                             (valid_states_rain['State_Name']=='Haryana')|\n",
    "                             (valid_states_rain['State_Name']=='Madhya Pradesh')|\n",
    "                             (valid_states_rain['State_Name']=='Rajasthan')|\n",
    "                             (valid_states_rain['State_Name']=='Gujarat')|\n",
    "                             (valid_states_rain['State_Name']=='Maharashtra')|\n",
    "                             (valid_states_rain['State_Name']=='Karnataka')|\n",
    "                             (valid_states_rain['State_Name']=='Tamil Nadu')| #ye\n",
    "                             (valid_states_rain['State_Name']=='Telangana')|\n",
    "                             (valid_states_rain['State_Name']=='Kerala')|\n",
    "                             (valid_states_rain['State_Name']=='Himachal Pradesh')|\n",
    "                             (valid_states_rain['State_Name']=='Assam')|\n",
    "                                  \n",
    "                             (valid_states_rain['State_Name']=='Chhattisgarh')|\n",
    "                             (valid_states_rain['State_Name']=='Bihar')|\n",
    "                             (valid_states_rain['State_Name']=='Orissa')| #ye\n",
    "                             (valid_states_rain['State_Name']=='Jammu & Kashmir')| #ye\n",
    "                             (valid_states_rain['State_Name']=='Jharkhand')|\n",
    "                             (valid_states_rain['State_Name']=='Konkan & Goa')| #ye\n",
    "                             (valid_states_rain['State_Name']=='Arunachal Pradesh')|\n",
    "                             (valid_states_rain['State_Name']=='Manipur')|\n",
    "                             (valid_states_rain['State_Name']=='Sikkim')|\n",
    "                             (valid_states_rain['State_Name']=='Nagaland')|\n",
    "                             (valid_states_rain['State_Name']=='Uttarakhand')|\n",
    "                             (valid_states_rain['State_Name']=='Tripura')|\n",
    "                             (valid_states_rain['State_Name']=='Meghalaya')|\n",
    "                             (valid_states_rain['State_Name']=='Mizoram')]         "
   ]
  },
  {
   "cell_type": "code",
   "execution_count": 39,
   "metadata": {},
   "outputs": [],
   "source": [
    "cropdata.to_excel(\"E:/WinHackaton/analyze/cropdata_four_months_rainfall.xlsx\")"
   ]
  },
  {
   "cell_type": "code",
   "execution_count": null,
   "metadata": {},
   "outputs": [],
   "source": []
  }
 ],
 "metadata": {
  "kernelspec": {
   "display_name": "Python 3",
   "language": "python",
   "name": "python3"
  },
  "language_info": {
   "codemirror_mode": {
    "name": "ipython",
    "version": 3
   },
   "file_extension": ".py",
   "mimetype": "text/x-python",
   "name": "python",
   "nbconvert_exporter": "python",
   "pygments_lexer": "ipython3",
   "version": "3.7.6"
  }
 },
 "nbformat": 4,
 "nbformat_minor": 4
}
